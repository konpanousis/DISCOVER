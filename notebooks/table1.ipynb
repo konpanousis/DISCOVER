{
 "cells": [
  {
   "cell_type": "markdown",
   "id": "5c8e4da1-1970-47dc-bab4-35e3b2d9f2e3",
   "metadata": {},
   "source": [
    "## Performance on describing final layer neurons of ResNet-50 (ImageNet)"
   ]
  },
  {
   "cell_type": "code",
   "execution_count": null,
   "id": "7926c513-eeff-48e1-b72d-572a1a313c26",
   "metadata": {},
   "outputs": [],
   "source": [
    "import os\n",
    "#virtually move to parent directory\n",
    "os.chdir(\"..\")\n",
    "\n",
    "import torch\n",
    "import numpy as np \n",
    "print(np.__version__)\n",
    "import pandas as pd\n",
    "from sentence_transformers import SentenceTransformer\n",
    "\n",
    "import clip\n",
    "import utils\n",
    "import similarity"
   ]
  },
  {
   "cell_type": "markdown",
   "id": "5b5c3c8f-e7d4-4409-a061-7995483dfe21",
   "metadata": {},
   "source": [
    "## Arguments for CLIP-Dissect"
   ]
  },
  {
   "cell_type": "code",
   "execution_count": null,
   "id": "1724590a-2333-4daa-9948-6be1dfc60c25",
   "metadata": {},
   "outputs": [],
   "source": [
    "clip_name = 'ViT-B/16'\n",
    "#target_name = 'resnet-18-places-1'\n",
    "target_name = 'deit-tiny-relu'\n",
    "target_layer = 'head'#blocks[11].mlp.act'\n",
    "batch_size = 100\n",
    "device = 'cuda'\n",
    "pool_mode = 'avg'\n",
    "\n",
    "similarity_fn = similarity.soft_wpmi"
   ]
  },
  {
   "cell_type": "code",
   "execution_count": null,
   "id": "ea9b1413-bfce-4941-a09b-bf45606de62c",
   "metadata": {},
   "outputs": [],
   "source": [
    "model = SentenceTransformer('all-mpnet-base-v2')\n",
    "clip_model, _ = clip.load(clip_name, device=device)\n",
    "\n",
    "with open('data/imagenet_labels.txt', 'r') as f: \n",
    "    imagenet_classnames = (f.read()).split('\\n')"
   ]
  },
  {
   "cell_type": "markdown",
   "id": "20097db4-7a7b-461a-9cf0-beed037c4e6f",
   "metadata": {},
   "source": [
    "## Run CLIP-Dissect"
   ]
  },
  {
   "cell_type": "code",
   "execution_count": null,
   "id": "4b6a1e91-5363-43a3-8f0b-4a034515923e",
   "metadata": {},
   "outputs": [],
   "source": [
    "rows = [(\"imagenet_val\", \"broden_labels_clean.txt\"),\n",
    "       (\"imagenet_val\", \"3k.txt\"),\n",
    "       (\"imagenet_val\", \"10k.txt\"),\n",
    "       (\"imagenet_val\", \"20k.txt\"),\n",
    "       (\"imagenet_val\", \"imagenet_labels.txt\"),\n",
    "       (\"cifar100_train\", \"20k.txt\"),\n",
    "       (\"broden\", \"20k.txt\"),\n",
    "       (\"imagenet_broden\", \"20k.txt\"),]"
   ]
  },
  {
   "cell_type": "code",
   "execution_count": null,
   "id": "edd0e205-0b81-4d59-80ac-16b321e56949",
   "metadata": {},
   "outputs": [],
   "source": [
    "for d_probe, concept_set in rows:\n",
    "    folder_name = '{}_FINAL/{}'.format(target_name, d_probe)\n",
    "    save_dir = 'experiments/{}/saved_activations'.format(folder_name)\n",
    "   \n",
    "\n",
    "    with open('data/concept_sets/' + concept_set, 'r') as f: \n",
    "        words = (f.read()).split('\\n')\n",
    "    utils.save_activations(clip_name = clip_name, target_name = target_name, target_layers = [target_layer], \n",
    "                           d_probe = d_probe, concept_set = concept_set, batch_size = batch_size, \n",
    "                           device = device, pool_mode=pool_mode, save_dir = save_dir)\n",
    "\n",
    "    save_names = utils.get_save_names(clip_name = clip_name, target_name = target_name,\n",
    "                                      target_layer = target_layer, d_probe = d_probe,\n",
    "                                      concept_set = concept_set, pool_mode=pool_mode,\n",
    "                                      save_dir = save_dir)\n",
    "\n",
    "    target_save_name, clip_save_name, text_save_name = save_names\n",
    "\n",
    "    similarities, target_feats = utils.get_similarity_from_activations(target_save_name, clip_save_name, \n",
    "                                                        text_save_name, similarity_fn, device=device)\n",
    "\n",
    "    clip_preds = torch.argmax(similarities, dim=1)\n",
    "    clip_preds = [words[int(pred)] for pred in clip_preds]\n",
    "\n",
    "    clip_cos, mpnet_cos = utils.get_cos_similarity(clip_preds, imagenet_classnames, clip_model, model, device, batch_size)\n",
    "    print(\"D_probe:{}, Concept set:{}\".format(d_probe, concept_set))\n",
    "    print(\"CLIP-Dissect - Clip similarity: {:.4f}, mpnet similarity: {:.4f}\".format(clip_cos, mpnet_cos))"
   ]
  },
  {
   "cell_type": "markdown",
   "id": "0689b84a-cfdc-4ee3-a4b2-5b251396fb64",
   "metadata": {},
   "source": [
    "## Baselines"
   ]
  },
  {
   "cell_type": "code",
   "execution_count": null,
   "id": "422ba0dd-909d-4c78-a439-0e95c98662af",
   "metadata": {},
   "outputs": [],
   "source": [
    "netdissect_res = pd.read_csv('data/NetDissect_results/resnet50_imagenet_fc.csv')\n",
    "nd_preds = netdissect_res['label'].values\n",
    "\n",
    "clip_cos, mpnet_cos = utils.get_cos_similarity(nd_preds, imagenet_classnames, clip_model, model, device, batch_size)\n",
    "print(\"Network Dissection - Clip similarity: {:.4f}, mpnet similarity: {:.4f}\".format(clip_cos, mpnet_cos))"
   ]
  },
  {
   "cell_type": "code",
   "execution_count": null,
   "id": "083f8e02-4eb0-422d-97bc-ea3914d36d6b",
   "metadata": {},
   "outputs": [],
   "source": [
    "milan_preds = pd.read_csv('data/MILAN_results/m_base_resnet50_imagenet.csv')\n",
    "milan_preds = milan_preds[milan_preds['layer']=='fc']\n",
    "milan_preds = milan_preds.sort_values(by=['unit'])\n",
    "milan_preds = list(milan_preds['description'])\n",
    "\n",
    "clip_cos, mpnet_cos = utils.get_cos_similarity(milan_preds, imagenet_classnames, clip_model, model, device, batch_size)\n",
    "print(\"MILAN - Clip similarity: {:.4f}, mpnet similarity: {:.4f}\".format(clip_cos, mpnet_cos))"
   ]
  },
  {
   "cell_type": "code",
   "execution_count": null,
   "id": "66a6690d",
   "metadata": {},
   "outputs": [],
   "source": []
  }
 ],
 "metadata": {
  "kernelspec": {
   "display_name": "torchlatest",
   "language": "python",
   "name": "torchlatest"
  },
  "language_info": {
   "codemirror_mode": {
    "name": "ipython",
    "version": 3
   },
   "file_extension": ".py",
   "mimetype": "text/x-python",
   "name": "python",
   "nbconvert_exporter": "python",
   "pygments_lexer": "ipython3",
   "version": "3.10.11"
  }
 },
 "nbformat": 4,
 "nbformat_minor": 5
}
