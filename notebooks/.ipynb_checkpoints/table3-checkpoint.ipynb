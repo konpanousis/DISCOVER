{
 "cells": [
  {
   "cell_type": "markdown",
   "id": "10471e16-5f1a-486a-a053-f32e1faeff3f",
   "metadata": {},
   "source": [
    "## Similarity function comparison"
   ]
  },
  {
   "cell_type": "code",
   "execution_count": null,
   "id": "4b33deec-4d03-46d8-8ac5-b7b3e5b2f6c9",
   "metadata": {},
   "outputs": [],
   "source": [
    "import os\n",
    "#virtually move to parent directory\n",
    "os.chdir(\"..\")\n",
    "\n",
    "import torch\n",
    "from sentence_transformers import SentenceTransformer\n",
    "from sklearn import metrics\n",
    "\n",
    "import clip\n",
    "import utils\n",
    "import similarity"
   ]
  },
  {
   "cell_type": "markdown",
   "id": "c5eb399e-2c95-4609-bda4-cc5a5fc7f268",
   "metadata": {},
   "source": [
    "## Settings"
   ]
  },
  {
   "cell_type": "code",
   "execution_count": null,
   "id": "1724590a-2333-4daa-9948-6be1dfc60c25",
   "metadata": {},
   "outputs": [],
   "source": [
    "similarity_fns = [ \"soft_wpmi\"]#, 'wpmi', 'rank_reorder']\n",
    "d_probes = ['cifar100_train', 'imagenet_val', 'imagenet_broden',\n",
    "           'broden']\n",
    "\n",
    "clip_name = 'ViT-B/16'\n",
    "target_name = 'deit-tiny-relu'\n",
    "target_layer = 'head'\n",
    "batch_size = 100\n",
    "device = 'cuda'\n",
    "pool_mode = 'avg'\n",
    "print(os.getcwd())\n"
   ]
  },
  {
   "cell_type": "code",
   "execution_count": null,
   "id": "5ed87e72-f472-488d-89bd-c08bee7657d5",
   "metadata": {},
   "outputs": [],
   "source": [
    "model = SentenceTransformer('all-mpnet-base-v2')\n",
    "clip_model, _ = clip.load(clip_name, device=device)\n",
    "\n",
    "with open(\"data/concept_sets/broden_labels_clean.txt\", \"r\") as f:\n",
    "    cls_id_to_name = f.read().split(\"\\n\")"
   ]
  },
  {
   "cell_type": "markdown",
   "id": "cbfa97eb-1e6a-45c5-96e5-3d5724be0c13",
   "metadata": {},
   "source": [
    "# Cos similarities"
   ]
  },
  {
   "cell_type": "code",
   "execution_count": null,
   "id": "4b6a1e91-5363-43a3-8f0b-4a034515923e",
   "metadata": {},
   "outputs": [],
   "source": [
    "concept_set = 'broden_labels_clean.txt'\n",
    "\n",
    "with open('data/concept_sets/'+concept_set, 'r') as f:\n",
    "    words = f.read().split('\\n')\n",
    "\n",
    "for similarity_fn in similarity_fns:\n",
    "    for d_probe in d_probes:\n",
    "        folder_name = '{}_FINAL/{}/'.format(target_name, d_probe)\n",
    "        save_dir = 'experiments/' + folder_name \n",
    "        save_dir +=  'saved_activations'\n",
    "\n",
    "\n",
    "        utils.save_activations(clip_name = clip_name, target_name = target_name, target_layers = [target_layer], \n",
    "                               d_probe = d_probe, concept_set = concept_set, batch_size = batch_size, \n",
    "                               device = device, pool_mode=pool_mode, save_dir = save_dir)\n",
    "\n",
    "        save_names = utils.get_save_names(clip_name = clip_name, target_name = target_name,\n",
    "                                          target_layer = target_layer, d_probe = d_probe,\n",
    "                                          concept_set = concept_set, pool_mode=pool_mode,\n",
    "                                          save_dir = save_dir)\n",
    "\n",
    "        target_save_name, clip_save_name, text_save_name = save_names\n",
    "\n",
    "        similarities, target_feats = utils.get_similarity_from_activations(target_save_name, clip_save_name, \n",
    "                                                                           text_save_name, \n",
    "                                                                           eval(\"similarity.{}\".format(similarity_fn)),\n",
    "                                                                           device=device)\n",
    "\n",
    "        clip_preds = torch.argmax(similarities, dim=1)\n",
    "        clip_preds = [words[int(pred)] for pred in clip_preds]\n",
    "\n",
    "        clip_cos, mpnet_cos = utils.get_cos_similarity(clip_preds, cls_id_to_name, clip_model, model, device, batch_size)\n",
    "        print(\"Similarity fn: {}, D_probe: {}\".format(similarity_fn, d_probe))\n",
    "        print(\"Clip similarity: {:.4f}, mpnet similarity: {:.4f}\".format(clip_cos, mpnet_cos))"
   ]
  },
  {
   "cell_type": "markdown",
   "id": "81c91edd-85ec-4b37-b7d6-2df042c1f622",
   "metadata": {},
   "source": [
    "# Accuracies"
   ]
  },
  {
   "cell_type": "code",
   "execution_count": null,
   "id": "1ebc5fec-0878-4f80-b3f1-ca7c1f6a2486",
   "metadata": {},
   "outputs": [],
   "source": [
    "def get_topk_acc(sim, k=5):\n",
    "    correct = 0\n",
    "    for orig_id in range(1000):\n",
    "        vals, ids = torch.topk(sim[orig_id], k=k)\n",
    "        for idx in ids[:k]:\n",
    "            correct += (int(idx)==orig_id)\n",
    "    return (correct/1000)*100\n",
    "\n",
    "def get_correct_rank_mean_median(sim):\n",
    "    ranks = []\n",
    "    for orig_id in range(1000):\n",
    "        vals, ids = torch.sort(sim[orig_id], descending=True)\n",
    "        \n",
    "        ranks.append(list(ids).index(orig_id)+1)\n",
    "        \n",
    "    mean = sum(ranks)/len(ranks)\n",
    "    median = sorted(ranks)[500]\n",
    "    return mean, median\n",
    "\n",
    "def get_auc(sim):\n",
    "    max_sim, preds = torch.max(sim.cpu(), dim=1)\n",
    "    gtruth = torch.arange(0, 1000)\n",
    "    correct = (preds==gtruth)\n",
    "    fpr, tpr, thresholds = metrics.roc_curve(correct, max_sim)\n",
    "    auc = metrics.roc_auc_score(correct, max_sim)\n",
    "    return auc"
   ]
  },
  {
   "cell_type": "code",
   "execution_count": null,
   "id": "3ae886f7-6e33-4226-8d5e-9e6ccd1699ee",
   "metadata": {},
   "outputs": [],
   "source": [
    "concept_set = 'imagenet_labels.txt'\n",
    "with open('data/'+concept_set, 'r') as f: \n",
    "    words = (f.read()).split('\\n')\n",
    "    \n",
    "\n",
    "\n",
    "for similarity_fn in similarity_fns:\n",
    "    for d_probe in d_probes:\n",
    "        folder_name = '{}_FINAL/{}'.format(target_name, d_probe)\n",
    "        save_dir = 'experiments/{}/saved_activations'.format(folder_name)\n",
    "       \n",
    "\n",
    "        \n",
    "        utils.save_activations(clip_name = clip_name, target_name = target_name, target_layers = [target_layer], \n",
    "                               d_probe = d_probe, concept_set = concept_set, batch_size = batch_size, \n",
    "                               device = device, pool_mode=pool_mode, save_dir = save_dir)\n",
    "\n",
    "        save_names = utils.get_save_names(clip_name = clip_name, target_name = target_name,\n",
    "                                          target_layer = target_layer, d_probe = d_probe,\n",
    "                                          concept_set = concept_set, pool_mode=pool_mode,\n",
    "                                          save_dir = save_dir)\n",
    "\n",
    "        target_save_name, clip_save_name, text_save_name = save_names\n",
    "\n",
    "        similarities, target_feats = utils.get_similarity_from_activations(target_save_name, clip_save_name, \n",
    "                                                                           text_save_name, \n",
    "                                                                           eval(\"similarity.{}\".format(similarity_fn)),\n",
    "                                                                           device=device)\n",
    "        \n",
    "        print(\"Similarity fn: {}, D_probe: {}\".format(similarity_fn, d_probe))\n",
    "        print(\"Top 1 acc: {:.2f}%, Top 5 acc: {:.2f}%\".format(get_topk_acc(similarities, k=1),\n",
    "                                                         get_topk_acc(similarities, k=5)))\n",
    "        \n",
    "        print(\"Similarity fn: {}, D_probe: {}\".format(similarity_fn, d_probe))\n",
    "        print(\"Top 1 acc: {:.2f}%, Top 5 acc: {:.2f}%\".format(get_topk_acc(similarities, k=1),\n",
    "                                                         get_topk_acc(similarities, k=5)))\n",
    "        \n",
    "        #mean, median = get_correct_rank_mean_median(similarities)\n",
    "        #print(\"Mean rank of correct class: {:.2f}, Median rank of correct class: {}\".format(mean, median))\n",
    "        #print(\"AUC: {:.4f}\".format(get_auc(similarities)))\n",
    "\n"
   ]
  },
  {
   "cell_type": "code",
   "execution_count": null,
   "id": "b7a483d2",
   "metadata": {},
   "outputs": [],
   "source": []
  },
  {
   "cell_type": "code",
   "execution_count": null,
   "id": "7b708646",
   "metadata": {},
   "outputs": [],
   "source": []
  }
 ],
 "metadata": {
  "kernelspec": {
   "display_name": "torchlatest",
   "language": "python",
   "name": "torchlatest"
  },
  "language_info": {
   "codemirror_mode": {
    "name": "ipython",
    "version": 3
   },
   "file_extension": ".py",
   "mimetype": "text/x-python",
   "name": "python",
   "nbconvert_exporter": "python",
   "pygments_lexer": "ipython3",
   "version": "3.10.11"
  }
 },
 "nbformat": 4,
 "nbformat_minor": 5
}
