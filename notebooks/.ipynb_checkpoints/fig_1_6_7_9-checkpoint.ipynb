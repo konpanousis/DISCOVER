{
 "cells": [
  {
   "cell_type": "markdown",
   "id": "8e52ee82-e7e5-4bb9-a1a8-efc6e009c98f",
   "metadata": {},
   "source": [
    "## Qualitative comparison"
   ]
  },
  {
   "cell_type": "code",
   "execution_count": null,
   "id": "e29c7be9-8a6a-44dd-89cb-877dffe8d4db",
   "metadata": {},
   "outputs": [],
   "source": [
    "import os\n",
    "#virtually move to parent directory\n",
    "os.chdir(\"..\")\n",
    "\n",
    "import torch\n",
    "import pandas as pd\n",
    "\n",
    "import matplotlib\n",
    "from matplotlib import pyplot as plt\n",
    "print(os.getcwd())\n",
    "\n",
    "import utils\n",
    "import data_utils\n",
    "import similarity\n",
    "import text_colorings\n",
    "from models.DeiT import models\n"
   ]
  },
  {
   "cell_type": "markdown",
   "id": "0e693e37-a3ae-4aad-a03d-492e2a08eb5d",
   "metadata": {},
   "source": [
    "## Settings"
   ]
  },
  {
   "cell_type": "code",
   "execution_count": null,
   "id": "1724590a-2333-4daa-9948-6be1dfc60c25",
   "metadata": {},
   "outputs": [],
   "source": [
    "# Change this to select which figure is plotted\n",
    "figure = 'fig1a'\n",
    "\n",
    "settings = {'fig1a': {\"target_name\":'deit-small-12', \"target_layer\": 'blocks[0].mlp.act', \"neurons_to_display\": [46, 20, 242, 206]}, \n",
    "            'fig1b': {\"target_name\":'resnet50', \"target_layer\": 'layer4', \"neurons_to_display\": [1203, 1731, 683, 185]},\n",
    "            'fig6a': {\"target_name\":'resnet18_places', \"target_layer\": 'layer4', \"neurons_to_display\": \"NetDissect\"},\n",
    "            'fig6b': {\"target_name\":'resnet-18-places-8', \"target_layer\": 'layer4', \"neurons_to_display\": \"CLIP-Dissect\"},\n",
    "            'fig7a': {\"target_name\":'resnet50', \"target_layer\": 'layer4', \"neurons_to_display\": \"NetDissect\"},\n",
    "            'fig7b': {\"target_name\":'resnet50', \"target_layer\": 'layer4', \"neurons_to_display\": \"CLIP-Dissect\"},\n",
    "            'fig9a': {\"target_name\":'resnet50', \"target_layer\": 'layer1', \"neurons_to_display\": \"NetDissect\"},\n",
    "            'fig9b': {\"target_name\":'resnet50', \"target_layer\": 'layer1', \"neurons_to_display\": \"CLIP-Dissect\"},\n",
    "           }\n",
    "\n",
    "target_name = settings[figure][\"target_name\"]\n",
    "target_layer = settings[figure][\"target_layer\"]\n",
    "neurons_to_display = settings[figure][\"neurons_to_display\"]\n",
    "\n",
    "clip_name = 'ViT-B/16'\n",
    "d_probe = 'imagenet_val'\n",
    "concept_set = '20k.txt'\n",
    "batch_size = 100\n",
    "device = 'cuda'\n",
    "pool_mode = 'avg'\n",
    "\n",
    "# change the activation dir to diff models and dprobs\n",
    "folder_name = '{}_FINAL/{}/'.format(target_name, d_probe)\n",
    "activation_dir = 'experiments/' + folder_name+ 'saved_activations/'\n",
    "\n",
    "results_dir =  'experiments/' + folder_name + 'results/{}/'.format(concept_set.split('.')[0])\n",
    "\n",
    "\n",
    "\n",
    "sim = 'rand_reorder'\n",
    "similarity_fn = similarity.rank_reorder"
   ]
  },
  {
   "cell_type": "markdown",
   "id": "89f1eb6d-87cc-4430-b8e4-cd48d2643c7d",
   "metadata": {},
   "source": [
    "## Run CLIP-Dissect"
   ]
  },
  {
   "cell_type": "code",
   "execution_count": null,
   "id": "4b6a1e91-5363-43a3-8f0b-4a034515923e",
   "metadata": {},
   "outputs": [],
   "source": [
    "utils.save_activations(clip_name = clip_name, target_name = target_name, target_layers = [target_layer], \n",
    "                       d_probe = d_probe, concept_set = concept_set, batch_size = batch_size, \n",
    "                       device = device, pool_mode=pool_mode, save_dir = activation_dir)"
   ]
  },
  {
   "cell_type": "code",
   "execution_count": null,
   "id": "edd0e205-0b81-4d59-80ac-16b321e56949",
   "metadata": {},
   "outputs": [],
   "source": [
    "save_names = utils.get_save_names(clip_name = clip_name, target_name = target_name,\n",
    "                                  target_layer = target_layer, d_probe = d_probe,\n",
    "                                  concept_set = concept_set, pool_mode=pool_mode,\n",
    "                                  save_dir = activation_dir)\n",
    "\n",
    "target_save_name, clip_save_name, text_save_name = save_names\n",
    "\n",
    "similarities, target_feats = utils.get_similarity_from_activations(target_save_name, clip_save_name, \n",
    "                                                             text_save_name, similarity_fn, device=device)\n",
    "\n",
    "with open('data/concept_sets/'+concept_set, 'r') as f:\n",
    "    words = (f.read()).split('\\n')\n",
    "\n",
    "pil_data = data_utils.get_data(d_probe)"
   ]
  },
  {
   "cell_type": "markdown",
   "id": "9b8549fe-d136-41a2-be9d-5ae94ebeb3c1",
   "metadata": {},
   "source": [
    "## Visualize"
   ]
  },
  {
   "cell_type": "code",
   "execution_count": null,
   "id": "3ae62e80-35ce-4301-b015-cd68fe4f6183",
   "metadata": {},
   "outputs": [],
   "source": [
    "top_vals, top_ids = torch.topk(target_feats, k=5, dim=0)\n",
    "\n",
    "get_color = text_colorings.get_coloring(figure)\n",
    "\n",
    "name_conversion = {'resnet50':'resnet50_imagenet', 'resnet18_places':'resnet18_places365'}\n",
    "ood_names = {'resnet50':'p', 'resnet18_places': 'i'}"
   ]
  },
  {
   "cell_type": "code",
   "execution_count": null,
   "id": "8bf7e0da-7089-43e9-9140-6d1a34e6986e",
   "metadata": {},
   "outputs": [],
   "source": [
    "# Load Network Dissection results\n",
    "netdissect_res = pd.read_csv('data/NetDissect_results/{}_{}.csv'.format(name_conversion['resnet50'],\n",
    "                                                                       'layer4'))\n",
    "nd_ious = netdissect_res['score'].values\n",
    "nd_labels = netdissect_res['label'].values\n",
    "\n",
    "#Load MILAN results\n",
    "milan_base = pd.read_csv('data/MILAN_results/m_base_{}.csv'.format(name_conversion['resnet50']))\n",
    "if target_name == 'resnet50':\n",
    "    milan_ood = pd.read_csv('data/MILAN_results/m_places365_{}.csv'.format(name_conversion['resnet50']))\n",
    "elif target_name == 'resnet18_places':\n",
    "    milan_ood = pd.read_csv('data/MILAN_results/m_imagenet_{}.csv'.format(name_conversion['resnet50']))\n",
    "    \n",
    "milan_base = milan_base[milan_base['layer']=='layer4']\n",
    "milan_base = milan_base.sort_values(by=['unit'])\n",
    "milan_base = list(milan_base['description'])\n",
    "\n",
    "#milan_ood = milan_ood[milan_ood['layer']==target_layer]\n",
    "#milan_ood = milan_ood.sort_values(by=['unit'])\n",
    "#milan_ood = list(milan_ood['description'])"
   ]
  },
  {
   "cell_type": "code",
   "execution_count": null,
   "id": "883d93e8-9b14-4786-bd56-ba0ae56b6137",
   "metadata": {},
   "outputs": [],
   "source": [
    "# Calculate which neurons to show\n",
    "import numpy as np\n",
    "neurons_to_display = list(np.random.choice(range(1536), size = 4))\n",
    "if type(neurons_to_display)==list:\n",
    "    ids_to_check = neurons_to_display\n",
    "if neurons_to_display == \"CLIP-Dissect\":\n",
    "    ids_to_check = torch.sort(torch.max(similarities, dim=1)[0], descending=True)[1][0:10]\n",
    "elif neurons_to_display == \"NetDissect\":\n",
    "    ids_to_check = torch.sort(torch.tensor(nd_ious), descending=True)[1][:10]\n",
    "\n",
    "    \n",
    "#plot figures\n",
    "font_size=22\n",
    "font = {'size'   : font_size}\n",
    "\n",
    "matplotlib.rc('font', **font)\n",
    "matplotlib.rc('text', usetex=True)\n",
    "matplotlib.rc('font', family='serif')\n",
    "\n",
    "fig = plt.figure(figsize=[10, len(ids_to_check)*2.2])\n",
    "subfigs = fig.subfigures(nrows=len(ids_to_check), ncols=1)\n",
    "for j, orig_id in enumerate(ids_to_check):\n",
    "    vals, ids = torch.topk(similarities[orig_id], k=5, largest=True)\n",
    "        \n",
    "    subfig = subfigs[j]\n",
    "    subfig.text(0.13, 0.96, \"Neuron {}:\".format(int(orig_id)), size=font_size)\n",
    "    subfig.text(0.30, 0.96, \"CLIP-Dissect (Rank Reorder):\", size=font_size)\n",
    "    subfig.text(0.70, 0.96, words[int(ids[0])], size=font_size, color=get_color(\"clip\", j))\n",
    "    \n",
    "    axs = subfig.subplots(nrows=1, ncols=5)\n",
    "    for i, top_id in enumerate(top_ids[:, orig_id]):\n",
    "        im, label = pil_data[top_id]\n",
    "        im = im.resize([375,375])\n",
    "        axs[i].imshow(im)\n",
    "        axs[i].axis('off')\n",
    "fig.tight_layout()\n",
    "plt.savefig('cvn_{}_{}_{}_{}_{}.pdf'.format(target_name, target_layer, d_probe, concept_set, sim), bbox_inches='tight')"
   ]
  },
  {
   "cell_type": "markdown",
   "id": "4680a793",
   "metadata": {},
   "source": [
    "#### "
   ]
  },
  {
   "cell_type": "code",
   "execution_count": null,
   "id": "14ffd424",
   "metadata": {},
   "outputs": [],
   "source": []
  },
  {
   "cell_type": "code",
   "execution_count": null,
   "id": "e1acbad8",
   "metadata": {},
   "outputs": [],
   "source": []
  },
  {
   "cell_type": "code",
   "execution_count": null,
   "id": "ae54663a",
   "metadata": {},
   "outputs": [],
   "source": []
  },
  {
   "cell_type": "code",
   "execution_count": null,
   "id": "b8602fd1",
   "metadata": {},
   "outputs": [],
   "source": []
  }
 ],
 "metadata": {
  "kernelspec": {
   "display_name": "torchlatest",
   "language": "python",
   "name": "torchlatest"
  },
  "language_info": {
   "codemirror_mode": {
    "name": "ipython",
    "version": 3
   },
   "file_extension": ".py",
   "mimetype": "text/x-python",
   "name": "python",
   "nbconvert_exporter": "python",
   "pygments_lexer": "ipython3",
   "version": "3.10.11"
  }
 },
 "nbformat": 4,
 "nbformat_minor": 5
}
