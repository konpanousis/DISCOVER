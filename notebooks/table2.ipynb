{
 "cells": [
  {
   "cell_type": "markdown",
   "id": "ef9877fe-5d0d-4ad1-950a-8cfaa5e733fe",
   "metadata": {},
   "source": [
    "## Describing final layer neurons of ResNet-18 (Places)"
   ]
  },
  {
   "cell_type": "code",
   "execution_count": 1,
   "id": "29cd5fcc-cc5c-4cca-8708-491e6f904ee5",
   "metadata": {},
   "outputs": [
    {
     "name": "stderr",
     "output_type": "stream",
     "text": [
      "2023-03-22 07:19:55.947759: I tensorflow/stream_executor/platform/default/dso_loader.cc:49] Successfully opened dynamic library libcudart.so.11.0\n"
     ]
    }
   ],
   "source": [
    "import os\n",
    "#virtually move to parent directory\n",
    "os.chdir(\"..\")\n",
    "\n",
    "import torch\n",
    "import pandas as pd\n",
    "\n",
    "from sentence_transformers import SentenceTransformer\n",
    "\n",
    "import clip\n",
    "import utils\n",
    "import data_utils\n",
    "import similarity"
   ]
  },
  {
   "cell_type": "code",
   "execution_count": 2,
   "id": "1724590a-2333-4daa-9948-6be1dfc60c25",
   "metadata": {},
   "outputs": [],
   "source": [
    "#Arguments\n",
    "clip_name = 'ViT-B/16'\n",
    "target_name = 'resnet18_places'\n",
    "target_layer = 'fc'\n",
    "d_probe = 'broden'\n",
    "concept_set = 'data/broden_labels_clean.txt'\n",
    "batch_size = 200\n",
    "device = 'cuda'\n",
    "pool_mode = 'avg'\n",
    "\n",
    "save_dir = 'saved_activations'\n",
    "similarity_fn = similarity.soft_wpmi"
   ]
  },
  {
   "cell_type": "code",
   "execution_count": 3,
   "id": "4b6a1e91-5363-43a3-8f0b-4a034515923e",
   "metadata": {},
   "outputs": [],
   "source": [
    "utils.save_activations(clip_name = clip_name, target_name = target_name, target_layers = [target_layer], \n",
    "                       d_probe = d_probe, concept_set = concept_set, batch_size = batch_size, \n",
    "                       device = device, pool_mode=pool_mode, save_dir = save_dir)"
   ]
  },
  {
   "cell_type": "code",
   "execution_count": 4,
   "id": "edd0e205-0b81-4d59-80ac-16b321e56949",
   "metadata": {},
   "outputs": [
    {
     "name": "stderr",
     "output_type": "stream",
     "text": [
      "100%|██████████| 365/365 [00:00<00:00, 1611.75it/s]"
     ]
    },
    {
     "name": "stdout",
     "output_type": "stream",
     "text": [
      "torch.Size([365, 1197])\n"
     ]
    },
    {
     "name": "stderr",
     "output_type": "stream",
     "text": [
      "\n"
     ]
    }
   ],
   "source": [
    "save_names = utils.get_save_names(clip_name = clip_name, target_name = target_name,\n",
    "                                  target_layer = target_layer, d_probe = d_probe,\n",
    "                                  concept_set = concept_set, pool_mode=pool_mode,\n",
    "                                  save_dir = save_dir)\n",
    "\n",
    "target_save_name, clip_save_name, text_save_name = save_names\n",
    "\n",
    "similarities, target_feats = utils.get_similarity_from_activations(target_save_name, clip_save_name, \n",
    "                                                        text_save_name, similarity_fn, device=device)\n",
    "\n",
    "with open(concept_set, 'r') as f: \n",
    "    words = (f.read()).split('\\n')"
   ]
  },
  {
   "cell_type": "code",
   "execution_count": 5,
   "id": "d39dfe00-ff36-4d18-adcb-b348220dca6a",
   "metadata": {},
   "outputs": [],
   "source": [
    "#Clean up names of target classes\n",
    "with open('data/categories_places365.txt', 'r') as f:\n",
    "    cls_id_to_name = f.read().split('\\n')\n",
    "    cls_id_to_name = [(cls[3:]).split(' ')[0] for cls in cls_id_to_name]\n",
    "\n",
    "def process_word(word):\n",
    "    if concept_set.startswith('data/broden_labels'):\n",
    "        if word.endswith(\"-s\"):\n",
    "            word = word[:-2]\n",
    "        word = word.replace('_', ' ')\n",
    "        return \"{}\".format(word)\n",
    "    elif concept_set == 'data/categories_places365.txt':\n",
    "        \n",
    "        word = word[3:].split(' ')[0]\n",
    "        word = word.replace('/', '-')\n",
    "        word = word.replace('_', ' ')\n",
    "        \n",
    "        return \"{}\".format(word)"
   ]
  },
  {
   "cell_type": "markdown",
   "id": "81c91edd-85ec-4b37-b7d6-2df042c1f622",
   "metadata": {},
   "source": [
    "# Accuracies"
   ]
  },
  {
   "cell_type": "code",
   "execution_count": 6,
   "id": "a71c2a95-1536-4fbc-8bc8-95798fd59d45",
   "metadata": {},
   "outputs": [],
   "source": [
    "id_to_label = data_utils.get_places_id_to_broden_label()\n",
    "\n",
    "def clean_label(label):\n",
    "    if label.startswith('/'):\n",
    "        label = label[3:]\n",
    "        label = label.split(' ')[0]\n",
    "    if label.endswith('-s'):\n",
    "        label = label[:-2]\n",
    "    return label\n",
    "    \n",
    "def get_topk_acc(similarities, k=5):\n",
    "    correct = 0\n",
    "    total = 0\n",
    "    for orig_id in range(len(similarities)):\n",
    "        #skip classes not in Broden\n",
    "        if id_to_label[orig_id]==None:\n",
    "            continue\n",
    "        else:\n",
    "            vals, ids = torch.topk(similarities[orig_id], k, largest=True)\n",
    "            for idx in ids[:k]:\n",
    "                if (process_word(words[idx])==process_word(id_to_label[orig_id])):\n",
    "                    correct += 1\n",
    "                    continue\n",
    "            total += 1\n",
    "    return (correct/total)*100"
   ]
  },
  {
   "cell_type": "code",
   "execution_count": 7,
   "id": "f60b4f49-6829-4da6-9add-94ff0e96a98a",
   "metadata": {},
   "outputs": [
    {
     "name": "stdout",
     "output_type": "stream",
     "text": [
      "CLIP-Dissect Top 1 acc:58.0524\n",
      "CLIP-Dissect Top 5 acc:86.1423\n"
     ]
    }
   ],
   "source": [
    "print(\"CLIP-Dissect Top 1 acc:{:.4f}\".format(get_topk_acc(similarities, k=1)))\n",
    "print(\"CLIP-Dissect Top 5 acc:{:.4f}\".format(get_topk_acc(similarities, k=5)))"
   ]
  },
  {
   "cell_type": "code",
   "execution_count": 8,
   "id": "f5ecd688-007f-4efa-89e8-7fbca8dd206b",
   "metadata": {},
   "outputs": [
    {
     "name": "stdout",
     "output_type": "stream",
     "text": [
      "Network Dissection Top 1 acc:43.8202\n"
     ]
    }
   ],
   "source": [
    "df = pd.read_csv('data/NetDissect_results/resnet18_places365_fc.csv')\n",
    "correct = 0\n",
    "total = 0\n",
    "for i, label in enumerate(df['label']):\n",
    "    if id_to_label[i]==None:\n",
    "        continue\n",
    "    else:\n",
    "        correct += (clean_label(label)==clean_label(id_to_label[i]))\n",
    "        total += 1\n",
    "\n",
    "print(\"Network Dissection Top 1 acc:{:.4f}\".format(correct/total*100))"
   ]
  },
  {
   "cell_type": "markdown",
   "id": "cbfa97eb-1e6a-45c5-96e5-3d5724be0c13",
   "metadata": {},
   "source": [
    "# Cos similarities"
   ]
  },
  {
   "cell_type": "code",
   "execution_count": 9,
   "id": "f2ba548c-59fc-4112-8e93-9bb034c0adb0",
   "metadata": {},
   "outputs": [],
   "source": [
    "model = SentenceTransformer('all-mpnet-base-v2')\n",
    "clip_model, _ = clip.load(clip_name, device=device)"
   ]
  },
  {
   "cell_type": "code",
   "execution_count": 10,
   "id": "0a33a7c1-0acc-444b-a530-baedc39ffe45",
   "metadata": {},
   "outputs": [
    {
     "name": "stdout",
     "output_type": "stream",
     "text": [
      "CLIP-Dissect - Clip similarity: 0.9106, mpnet similarity: 0.7024\n"
     ]
    }
   ],
   "source": [
    "clip_preds = torch.argmax(similarities, dim=1)\n",
    "clip_preds = [words[int(pred)] for pred in clip_preds]\n",
    "\n",
    "clip_cos, mpnet_cos = utils.get_cos_similarity(clip_preds, cls_id_to_name, clip_model, model, device, batch_size)\n",
    "print(\"CLIP-Dissect - Clip similarity: {:.4f}, mpnet similarity: {:.4f}\".format(clip_cos, mpnet_cos))"
   ]
  },
  {
   "cell_type": "code",
   "execution_count": 11,
   "id": "314b1e83-93fb-4617-9a2a-55d6d2c95f3a",
   "metadata": {},
   "outputs": [
    {
     "name": "stdout",
     "output_type": "stream",
     "text": [
      "Network Dissection - Clip similarity: 0.8887, mpnet similarity: 0.6697\n"
     ]
    }
   ],
   "source": [
    "netdissect_res = pd.read_csv('data/NetDissect_results/resnet18_places365_fc.csv')\n",
    "nd_preds = netdissect_res['label'].values\n",
    "nd_preds = [clean_label(pred) for pred in nd_preds]\n",
    "\n",
    "clip_cos, mpnet_cos = utils.get_cos_similarity(nd_preds, cls_id_to_name, clip_model, model, device, batch_size)\n",
    "print(\"Network Dissection - Clip similarity: {:.4f}, mpnet similarity: {:.4f}\".format(clip_cos, mpnet_cos))"
   ]
  }
 ],
 "metadata": {
  "kernelspec": {
   "display_name": "Python 3 (ipykernel)",
   "language": "python",
   "name": "python3"
  },
  "language_info": {
   "codemirror_mode": {
    "name": "ipython",
    "version": 3
   },
   "file_extension": ".py",
   "mimetype": "text/x-python",
   "name": "python",
   "nbconvert_exporter": "python",
   "pygments_lexer": "ipython3",
   "version": "3.8.12"
  }
 },
 "nbformat": 4,
 "nbformat_minor": 5
}
